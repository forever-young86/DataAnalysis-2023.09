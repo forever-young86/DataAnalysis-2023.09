{
 "cells": [
  {
   "cell_type": "markdown",
   "metadata": {},
   "source": [
    "## 네이버 검색 결과 크롤링\n",
    "- 영등포역 맛집\n",
    "- Selenium 이용"
   ]
  },
  {
   "cell_type": "code",
   "execution_count": 1,
   "metadata": {},
   "outputs": [],
   "source": [
    "import requests\n",
    "import pandas as pd\n",
    "from bs4 import BeautifulSoup\n",
    "from urllib.parse import quote"
   ]
  },
  {
   "cell_type": "markdown",
   "metadata": {},
   "source": [
    "- request.get()으로 데이터를 가져오는 경우"
   ]
  },
  {
   "cell_type": "code",
   "execution_count": 2,
   "metadata": {},
   "outputs": [],
   "source": [
    "base_url = 'https://search.naver.com/search.naver?where=view&sm=tab_jum'\n",
    "url = f'{base_url}&query={quote(\"영등포역 맛집\")}'\n",
    "res = requests.get(url)\n",
    "soup = BeautifulSoup(res.text)"
   ]
  },
  {
   "cell_type": "code",
   "execution_count": 3,
   "metadata": {},
   "outputs": [
    {
     "data": {
      "text/plain": [
       "30"
      ]
     },
     "execution_count": 3,
     "metadata": {},
     "output_type": "execute_result"
    }
   ],
   "source": [
    "lis = soup.select('.bx._svp_item')\n",
    "len(lis)        # 페이지다운 하지 않은 현재 보이는 데이터 갯수"
   ]
  },
  {
   "cell_type": "markdown",
   "metadata": {},
   "source": [
    "- Selenium 이용해서 데이터를 가져오는 경우"
   ]
  },
  {
   "cell_type": "code",
   "execution_count": 4,
   "metadata": {},
   "outputs": [],
   "source": [
    "from selenium import webdriver\n",
    "\n",
    "driver = webdriver.Chrome()     # PATH 설정 할 것 (chromedriver.exe가 위치해있는곳을 path 설정해야함)\n",
    "driver.get(url)"
   ]
  },
  {
   "cell_type": "code",
   "execution_count": 5,
   "metadata": {},
   "outputs": [],
   "source": [
    "# View 페이지를 아래로 내려서 많은 데이터를 확보\n",
    "from selenium.webdriver.common.by import By\n",
    "from selenium.webdriver.common.keys import Keys\n",
    "import time\n",
    "\n",
    "body = driver.find_element(By.TAG_NAME, 'body')     #body 태그를 찾는다\n",
    "for _ in range(30):   \n",
    "    body.send_keys(Keys.PAGE_DOWN)  #페이지 다운키를 보낸다\n",
    "    time.sleep(1)       #1초씩 쉬었다 가기"
   ]
  },
  {
   "cell_type": "code",
   "execution_count": 6,
   "metadata": {},
   "outputs": [
    {
     "data": {
      "text/plain": [
       "110"
      ]
     },
     "execution_count": 6,
     "metadata": {},
     "output_type": "execute_result"
    }
   ],
   "source": [
    "soup = BeautifulSoup(driver.page_source)\n",
    "lis = soup.select('.bx._svp_item')\n",
    "len(lis)        # 페이지 다운을 해서 나온 데이터 갯수"
   ]
  },
  {
   "cell_type": "code",
   "execution_count": 7,
   "metadata": {},
   "outputs": [],
   "source": [
    "driver.close()"
   ]
  },
  {
   "cell_type": "markdown",
   "metadata": {},
   "source": [
    "- 제목, 내용 크롤링"
   ]
  },
  {
   "cell_type": "code",
   "execution_count": 21,
   "metadata": {},
   "outputs": [
    {
     "data": {
      "text/plain": [
       "'영등포역 맛집 영등갈비 미묘하게 매력적인 고기집'"
      ]
     },
     "execution_count": 21,
     "metadata": {},
     "output_type": "execute_result"
    }
   ],
   "source": [
    "title = li.select_one('.api_txt_lines.total_tit._cross_trigger').get_text().strip()\n",
    "title"
   ]
  },
  {
   "cell_type": "code",
   "execution_count": 10,
   "metadata": {},
   "outputs": [
    {
     "data": {
      "text/plain": [
       "'최근에 영등포역 맛집 영등갈비 방문 후 포스팅 해봅니다 난생 처음 먹어본 색다른 갈비 였네요 영등포역... 서울 영등포구 영신로 19번길 1 영업시간: 오후 12시 - 밤 10시 브레이크타임: 오후 2시 - 오후 4시 (평일) 연락처: 0507...'"
      ]
     },
     "execution_count": 10,
     "metadata": {},
     "output_type": "execute_result"
    }
   ],
   "source": [
    "content = li.select_one('.api_txt_lines.dsc_txt').get_text().strip()\n",
    "content[:200]"
   ]
  },
  {
   "cell_type": "markdown",
   "metadata": {},
   "source": [
    "- 날짜 크롤링"
   ]
  },
  {
   "cell_type": "code",
   "execution_count": 8,
   "metadata": {},
   "outputs": [
    {
     "data": {
      "text/plain": [
       "'2023.08.28.'"
      ]
     },
     "execution_count": 8,
     "metadata": {},
     "output_type": "execute_result"
    }
   ],
   "source": [
    "li = lis[0]\n",
    "date = li.select_one('.sub_time.sub_txt').get_text().strip()       #공백도 . 찍어줘야함\n",
    "date"
   ]
  },
  {
   "cell_type": "code",
   "execution_count": 11,
   "metadata": {},
   "outputs": [
    {
     "data": {
      "text/plain": [
       "datetime.datetime(2023, 9, 18, 15, 18, 15, 990975)"
      ]
     },
     "execution_count": 11,
     "metadata": {},
     "output_type": "execute_result"
    }
   ],
   "source": [
    "from datetime import datetime, timedelta\n",
    "\n",
    "now = datetime.now()\n",
    "now"
   ]
  },
  {
   "cell_type": "code",
   "execution_count": 12,
   "metadata": {},
   "outputs": [
    {
     "data": {
      "text/plain": [
       "'2023.09.17'"
      ]
     },
     "execution_count": 12,
     "metadata": {},
     "output_type": "execute_result"
    }
   ],
   "source": [
    "# 어제\n",
    "date = now - timedelta(1)\n",
    "f'{date.year}.{date.month:02d}.{date.day:02d}'"
   ]
  },
  {
   "cell_type": "code",
   "execution_count": 13,
   "metadata": {},
   "outputs": [
    {
     "data": {
      "text/plain": [
       "'2023.09.16'"
      ]
     },
     "execution_count": 13,
     "metadata": {},
     "output_type": "execute_result"
    }
   ],
   "source": [
    "# 2일 전\n",
    "date = now - timedelta(2)\n",
    "date.strftime('%Y.%m.%d')"
   ]
  },
  {
   "cell_type": "code",
   "execution_count": 14,
   "metadata": {},
   "outputs": [
    {
     "data": {
      "text/plain": [
       "'2023.09.17'"
      ]
     },
     "execution_count": 14,
     "metadata": {},
     "output_type": "execute_result"
    }
   ],
   "source": [
    "# 23시간 전\n",
    "date = now - timedelta(hours=23)\n",
    "date.strftime('%Y.%m.%d')"
   ]
  },
  {
   "cell_type": "code",
   "execution_count": 15,
   "metadata": {},
   "outputs": [
    {
     "data": {
      "text/plain": [
       "'2023.09.18'"
      ]
     },
     "execution_count": 15,
     "metadata": {},
     "output_type": "execute_result"
    }
   ],
   "source": [
    "# 40분 전\n",
    "date = now - timedelta(minutes=40)\n",
    "date.strftime('%Y.%m.%d')"
   ]
  },
  {
   "cell_type": "code",
   "execution_count": 16,
   "metadata": {},
   "outputs": [],
   "source": [
    "def convert_date(s):    # s는 40분 전 또는 '2023.08.28.' 같은 문자열\n",
    "    if len(s) == 11:        #'2023.09.18.'\n",
    "        return s[:-1]\n",
    "    \n",
    "    now = datetime.now()\n",
    "    if '어제' in s:\n",
    "        date = now - timedelta(1)\n",
    "    elif '일' in s:         # 2일 전~ 7일 전\n",
    "        date = now - timedelta(int(s[0]))\n",
    "    elif '시간' in s:       #1 시간 전 ~ 23시간 전\n",
    "        date = now - timedelta(hours=int(s[:-4]))       # -4: 뒤에서 부터 \"시간 전\" 없이 앞에 숫자만 나타나도록!\n",
    "    elif '분' in s:         # 1분 전 ~ 59분 전\n",
    "        date = now - timedelta(minutes=int(s[:-3]))\n",
    "        \n",
    "    return date.strftime('%Y.%m.%d')"
   ]
  },
  {
   "cell_type": "markdown",
   "metadata": {},
   "source": [
    "- Step 4"
   ]
  },
  {
   "cell_type": "code",
   "execution_count": 23,
   "metadata": {},
   "outputs": [],
   "source": [
    "data = []\n",
    "for li in lis:\n",
    "    date = convert_date(li.select_one('.sub_time.sub_txt').get_text().strip())\n",
    "    title = li.select_one('.api_txt_lines.total_tit._cross_trigger').get_text().strip()\n",
    "    content = li.select_one('.api_txt_lines.dsc_txt').get_text().strip()\n",
    "    data.append({'날짜':date, '제목':title, '내용':content})\n"
   ]
  },
  {
   "cell_type": "markdown",
   "metadata": {},
   "source": [
    "- Step 7"
   ]
  },
  {
   "cell_type": "code",
   "execution_count": 24,
   "metadata": {},
   "outputs": [
    {
     "data": {
      "text/html": [
       "<div>\n",
       "<style scoped>\n",
       "    .dataframe tbody tr th:only-of-type {\n",
       "        vertical-align: middle;\n",
       "    }\n",
       "\n",
       "    .dataframe tbody tr th {\n",
       "        vertical-align: top;\n",
       "    }\n",
       "\n",
       "    .dataframe thead th {\n",
       "        text-align: right;\n",
       "    }\n",
       "</style>\n",
       "<table border=\"1\" class=\"dataframe\">\n",
       "  <thead>\n",
       "    <tr style=\"text-align: right;\">\n",
       "      <th></th>\n",
       "      <th>날짜</th>\n",
       "      <th>제목</th>\n",
       "      <th>내용</th>\n",
       "    </tr>\n",
       "  </thead>\n",
       "  <tbody>\n",
       "    <tr>\n",
       "      <th>0</th>\n",
       "      <td>2023.08.28</td>\n",
       "      <td>영등포역 맛집 영등갈비 미묘하게 매력적인 고기집</td>\n",
       "      <td>최근에 영등포역 맛집 영등갈비 방문 후 포스팅 해봅니다 난생 처음 먹어본 색다른 갈...</td>\n",
       "    </tr>\n",
       "    <tr>\n",
       "      <th>1</th>\n",
       "      <td>2023.09.08</td>\n",
       "      <td>영등포역 맛집 남다른 식감의 특수부위 영등포꼬들집</td>\n",
       "      <td>안녕하세요~ 두덩입니다 :) 오늘은 영등포역 맛집을 소개하려고 해요. 영등포꼬들집이...</td>\n",
       "    </tr>\n",
       "    <tr>\n",
       "      <th>2</th>\n",
       "      <td>2023.08.31</td>\n",
       "      <td>영등포역 맛집 추천 - 고기집 항정사이 영등포점 가성비 좋아요</td>\n",
       "      <td>#영등포역맛집 #영등포역고기집 #항정사이 영등포역 맛집 거리 지날 때마다 늘 손님들...</td>\n",
       "    </tr>\n",
       "    <tr>\n",
       "      <th>3</th>\n",
       "      <td>2023.05.28</td>\n",
       "      <td>청기와타운 - 영등포역 맛집 영등포 수원왕갈비 한정식 고깃집 추천</td>\n",
       "      <td>영업시간: 11:30 - 22:00 라스트 오더: 21:00 연락처: 0507-13...</td>\n",
       "    </tr>\n",
       "    <tr>\n",
       "      <th>4</th>\n",
       "      <td>2023.09.17</td>\n",
       "      <td>[영등포역 맛집/송죽장] 70년 전통 노포 화상 중국집 고추짬뽕,탕수육,군만두(ft...</td>\n",
       "      <td>서울에서 손꼽히는 노포 화상 중국집중 한곳인 #영등포맛집 #영등포역맛집 #송죽장 7...</td>\n",
       "    </tr>\n",
       "    <tr>\n",
       "      <th>...</th>\n",
       "      <td>...</td>\n",
       "      <td>...</td>\n",
       "      <td>...</td>\n",
       "    </tr>\n",
       "    <tr>\n",
       "      <th>105</th>\n",
       "      <td>2023.09.10</td>\n",
       "      <td>[음식점리뷰]영등포역 맛집 교촌치킨에서 맛있는 치킨 먹어볼까요?</td>\n",
       "      <td>그래서 퇴근하자마자 집 근처에 있는 영등포역 맛집 교촌치킨으로 직행했다. 저번에 테...</td>\n",
       "    </tr>\n",
       "    <tr>\n",
       "      <th>106</th>\n",
       "      <td>2023.09.06</td>\n",
       "      <td>영등포역 인근 맛집 추천해주세요!!!!</td>\n",
       "      <td>영등포역 인근 맛집 추천해주세요!!!!</td>\n",
       "    </tr>\n",
       "    <tr>\n",
       "      <th>107</th>\n",
       "      <td>2023.09.18</td>\n",
       "      <td>영등포역맛집 이고집쭈꾸미 여전히맛있어 최고야</td>\n",
       "      <td>이고집쭈꾸미 본점 #영등포역맛집 #영등포맛집 #이고집쭈꾸미 #영등포쭈꾸미 친구들이랑...</td>\n",
       "    </tr>\n",
       "    <tr>\n",
       "      <th>108</th>\n",
       "      <td>2023.04.03</td>\n",
       "      <td>꽃구경 코스로 좋은 영등포역 맛집 광부맥주</td>\n",
       "      <td>꽃구경 코스로 좋은 영등포역 맛집 광부맥주 주말에 집에있다가 날씨가 너무 좋아서 당...</td>\n",
       "    </tr>\n",
       "    <tr>\n",
       "      <th>109</th>\n",
       "      <td>2023.04.05</td>\n",
       "      <td>영등포역 한식식당 배달전문 음식점 주방담당 및 보조 직원 &amp; 포장 알바직원 구인합니다.</td>\n",
       "      <td>영등포역 5분거리에 있는 한식배달식당에서 직원 및 포장 직원 구인합니다. ■ 주5일...</td>\n",
       "    </tr>\n",
       "  </tbody>\n",
       "</table>\n",
       "<p>110 rows × 3 columns</p>\n",
       "</div>"
      ],
      "text/plain": [
       "             날짜                                                 제목  \\\n",
       "0    2023.08.28                         영등포역 맛집 영등갈비 미묘하게 매력적인 고기집   \n",
       "1    2023.09.08                        영등포역 맛집 남다른 식감의 특수부위 영등포꼬들집   \n",
       "2    2023.08.31                 영등포역 맛집 추천 - 고기집 항정사이 영등포점 가성비 좋아요   \n",
       "3    2023.05.28               청기와타운 - 영등포역 맛집 영등포 수원왕갈비 한정식 고깃집 추천   \n",
       "4    2023.09.17  [영등포역 맛집/송죽장] 70년 전통 노포 화상 중국집 고추짬뽕,탕수육,군만두(ft...   \n",
       "..          ...                                                ...   \n",
       "105  2023.09.10                [음식점리뷰]영등포역 맛집 교촌치킨에서 맛있는 치킨 먹어볼까요?   \n",
       "106  2023.09.06                              영등포역 인근 맛집 추천해주세요!!!!   \n",
       "107  2023.09.18                           영등포역맛집 이고집쭈꾸미 여전히맛있어 최고야   \n",
       "108  2023.04.03                            꽃구경 코스로 좋은 영등포역 맛집 광부맥주   \n",
       "109  2023.04.05   영등포역 한식식당 배달전문 음식점 주방담당 및 보조 직원 & 포장 알바직원 구인합니다.   \n",
       "\n",
       "                                                    내용  \n",
       "0    최근에 영등포역 맛집 영등갈비 방문 후 포스팅 해봅니다 난생 처음 먹어본 색다른 갈...  \n",
       "1    안녕하세요~ 두덩입니다 :) 오늘은 영등포역 맛집을 소개하려고 해요. 영등포꼬들집이...  \n",
       "2    #영등포역맛집 #영등포역고기집 #항정사이 영등포역 맛집 거리 지날 때마다 늘 손님들...  \n",
       "3    영업시간: 11:30 - 22:00 라스트 오더: 21:00 연락처: 0507-13...  \n",
       "4    서울에서 손꼽히는 노포 화상 중국집중 한곳인 #영등포맛집 #영등포역맛집 #송죽장 7...  \n",
       "..                                                 ...  \n",
       "105  그래서 퇴근하자마자 집 근처에 있는 영등포역 맛집 교촌치킨으로 직행했다. 저번에 테...  \n",
       "106                              영등포역 인근 맛집 추천해주세요!!!!  \n",
       "107  이고집쭈꾸미 본점 #영등포역맛집 #영등포맛집 #이고집쭈꾸미 #영등포쭈꾸미 친구들이랑...  \n",
       "108  꽃구경 코스로 좋은 영등포역 맛집 광부맥주 주말에 집에있다가 날씨가 너무 좋아서 당...  \n",
       "109  영등포역 5분거리에 있는 한식배달식당에서 직원 및 포장 직원 구인합니다. ■ 주5일...  \n",
       "\n",
       "[110 rows x 3 columns]"
      ]
     },
     "execution_count": 24,
     "metadata": {},
     "output_type": "execute_result"
    }
   ],
   "source": [
    "df = pd.DataFrame(data)\n",
    "df"
   ]
  },
  {
   "cell_type": "code",
   "execution_count": null,
   "metadata": {},
   "outputs": [],
   "source": []
  }
 ],
 "metadata": {
  "kernelspec": {
   "display_name": "base",
   "language": "python",
   "name": "python3"
  },
  "language_info": {
   "codemirror_mode": {
    "name": "ipython",
    "version": 3
   },
   "file_extension": ".py",
   "mimetype": "text/x-python",
   "name": "python",
   "nbconvert_exporter": "python",
   "pygments_lexer": "ipython3",
   "version": "3.11.4"
  },
  "orig_nbformat": 4
 },
 "nbformat": 4,
 "nbformat_minor": 2
}
