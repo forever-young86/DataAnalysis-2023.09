{
 "cells": [
  {
   "cell_type": "markdown",
   "metadata": {},
   "source": [
    "## 지니차트 Top 200 - 선생님 답"
   ]
  },
  {
   "cell_type": "code",
   "execution_count": 90,
   "metadata": {},
   "outputs": [],
   "source": [
    "import requests\n",
    "import pandas as pd\n",
    "from bs4 import BeautifulSoup"
   ]
  },
  {
   "cell_type": "markdown",
   "metadata": {},
   "source": [
    "- Step 1"
   ]
  },
  {
   "cell_type": "code",
   "execution_count": 91,
   "metadata": {},
   "outputs": [],
   "source": [
    "url = 'https://www.genie.co.kr/chart/top200'\n",
    "header = {'User-Agent': 'Mozilla/5.0 (Windows NT 10.0; Win64; x64) AppleWebKit/537.36 (KHTML, like Gecko) Chrome/117.0.0.0 Safari/537.36'}\n",
    "res = requests.get(url, headers=header)\n",
    "soup = BeautifulSoup(res.text, 'html.parser')"
   ]
  },
  {
   "cell_type": "code",
   "execution_count": 92,
   "metadata": {},
   "outputs": [
    {
     "data": {
      "text/plain": [
       "<span id=\"inc_date\">2013.03.06</span>"
      ]
     },
     "execution_count": 92,
     "metadata": {},
     "output_type": "execute_result"
    }
   ],
   "source": [
    "soup.select_one('#inc_date')"
   ]
  },
  {
   "cell_type": "code",
   "execution_count": 93,
   "metadata": {},
   "outputs": [],
   "source": [
    "from selenium import webdriver\n",
    "\n",
    "driver = webdriver.Chrome()\n",
    "driver.get(url)"
   ]
  },
  {
   "cell_type": "code",
   "execution_count": 94,
   "metadata": {},
   "outputs": [
    {
     "data": {
      "text/plain": [
       "<span id=\"inc_date\">2023.09.19</span>"
      ]
     },
     "execution_count": 94,
     "metadata": {},
     "output_type": "execute_result"
    }
   ],
   "source": [
    "soup = BeautifulSoup(driver.page_source, 'html.parser')     #위에 웹이 켜진걸 끄면 실행 안됨!\n",
    "date = soup.select_one('#inc_date')\n",
    "date"
   ]
  },
  {
   "cell_type": "code",
   "execution_count": 95,
   "metadata": {},
   "outputs": [
    {
     "data": {
      "text/plain": [
       "<span id=\"inc_time\">09:00</span>"
      ]
     },
     "execution_count": 95,
     "metadata": {},
     "output_type": "execute_result"
    }
   ],
   "source": [
    "time = soup.select_one('#inc_time')\n",
    "time"
   ]
  },
  {
   "cell_type": "markdown",
   "metadata": {},
   "source": [
    "- Step 2"
   ]
  },
  {
   "cell_type": "code",
   "execution_count": 96,
   "metadata": {},
   "outputs": [
    {
     "data": {
      "text/plain": [
       "50"
      ]
     },
     "execution_count": 96,
     "metadata": {},
     "output_type": "execute_result"
    }
   ],
   "source": [
    "trs = soup.select('tr.list')\n",
    "len(trs)"
   ]
  },
  {
   "cell_type": "markdown",
   "metadata": {},
   "source": [
    "- Step 3"
   ]
  },
  {
   "cell_type": "code",
   "execution_count": 97,
   "metadata": {},
   "outputs": [
    {
     "data": {
      "text/plain": [
       "'1'"
      ]
     },
     "execution_count": 97,
     "metadata": {},
     "output_type": "execute_result"
    }
   ],
   "source": [
    "tr = trs[0]\n",
    "#'1\\n                                        \\n                                    \\n유지\\n\\n'\n",
    "rank = tr.select_one('.number').get_text().split('\\n')[0].strip()\n",
    "rank"
   ]
  },
  {
   "cell_type": "code",
   "execution_count": 98,
   "metadata": {},
   "outputs": [
    {
     "data": {
      "text/plain": [
       "'Love Lee'"
      ]
     },
     "execution_count": 98,
     "metadata": {},
     "output_type": "execute_result"
    }
   ],
   "source": [
    "title = tr.select_one('.title.ellipsis').get_text().strip()\n",
    "title"
   ]
  },
  {
   "cell_type": "code",
   "execution_count": 99,
   "metadata": {},
   "outputs": [
    {
     "data": {
      "text/plain": [
       "'AKMU (악뮤)'"
      ]
     },
     "execution_count": 99,
     "metadata": {},
     "output_type": "execute_result"
    }
   ],
   "source": [
    "artist = tr.select_one('.artist.ellipsis').get_text().strip()\n",
    "artist"
   ]
  },
  {
   "cell_type": "code",
   "execution_count": 100,
   "metadata": {},
   "outputs": [
    {
     "data": {
      "text/plain": [
       "'Love Lee'"
      ]
     },
     "execution_count": 100,
     "metadata": {},
     "output_type": "execute_result"
    }
   ],
   "source": [
    "album = tr.select_one('.albumtitle.ellipsis').get_text().strip()\n",
    "album"
   ]
  },
  {
   "cell_type": "markdown",
   "metadata": {},
   "source": [
    "- Step 4"
   ]
  },
  {
   "cell_type": "code",
   "execution_count": 101,
   "metadata": {},
   "outputs": [],
   "source": [
    "data = [] \n",
    "for tr in trs: \n",
    "    rank = int(tr.select_one('.number').get_text().split('\\n')[0].strip())\n",
    "    title = tr.select_one('.title.ellipsis').get_text().strip()\n",
    "    artist = tr.select_one('.artist.ellipsis').get_text().strip()\n",
    "    album = tr.select_one('.albumtitle.ellipsis').get_text().strip()\n",
    "    data.append({'rank':rank, 'title':title, 'artist':artist, 'album':album})"
   ]
  },
  {
   "cell_type": "markdown",
   "metadata": {},
   "source": [
    "- Step 5: 생략\n",
    "- Step 6"
   ]
  },
  {
   "cell_type": "code",
   "execution_count": 102,
   "metadata": {},
   "outputs": [],
   "source": [
    "data = []   # 모든페이지에 대해 돌려야하므로 바깥으로 빼준다\n",
    "for page in range(1,5):\n",
    "    url = f'https://www.genie.co.kr/chart/top200?pg={page}'\n",
    "    res = requests.get(url, headers = header)\n",
    "    soup = BeautifulSoup(res.text, 'html.parser')\n",
    "    trs = soup.select('tr.list')\n",
    "\n",
    "    for tr in trs: \n",
    "        rank = int(tr.select_one('.number').get_text().split('\\n')[0].strip())\n",
    "        title = tr.select_one('.title.ellipsis').get_text().strip()\n",
    "        artist = tr.select_one('.artist.ellipsis').get_text().strip()\n",
    "        album = tr.select_one('.albumtitle.ellipsis').get_text().strip()\n",
    "        data.append({'rank':rank, 'title':title, 'artist':artist, 'album':album})"
   ]
  },
  {
   "cell_type": "markdown",
   "metadata": {},
   "source": [
    "- Step 7"
   ]
  },
  {
   "cell_type": "code",
   "execution_count": 103,
   "metadata": {},
   "outputs": [
    {
     "data": {
      "text/html": [
       "<div>\n",
       "<style scoped>\n",
       "    .dataframe tbody tr th:only-of-type {\n",
       "        vertical-align: middle;\n",
       "    }\n",
       "\n",
       "    .dataframe tbody tr th {\n",
       "        vertical-align: top;\n",
       "    }\n",
       "\n",
       "    .dataframe thead th {\n",
       "        text-align: right;\n",
       "    }\n",
       "</style>\n",
       "<table border=\"1\" class=\"dataframe\">\n",
       "  <thead>\n",
       "    <tr style=\"text-align: right;\">\n",
       "      <th></th>\n",
       "      <th>rank</th>\n",
       "      <th>title</th>\n",
       "      <th>artist</th>\n",
       "      <th>album</th>\n",
       "    </tr>\n",
       "  </thead>\n",
       "  <tbody>\n",
       "    <tr>\n",
       "      <th>195</th>\n",
       "      <td>196</td>\n",
       "      <td>찰나가 영원이 될 때 (The Eternal Moment)</td>\n",
       "      <td>마크툽 (Maktub)</td>\n",
       "      <td>Red Moon : Beyond The Light</td>\n",
       "    </tr>\n",
       "    <tr>\n",
       "      <th>196</th>\n",
       "      <td>197</td>\n",
       "      <td>첫눈처럼 너에게 가겠다</td>\n",
       "      <td>에일리 (Ailee)</td>\n",
       "      <td>도깨비 OST Part 9 (tvN 금토드라마)</td>\n",
       "    </tr>\n",
       "    <tr>\n",
       "      <th>197</th>\n",
       "      <td>198</td>\n",
       "      <td>ASAP</td>\n",
       "      <td>NewJeans</td>\n",
       "      <td>NewJeans 2nd EP 'Get Up'</td>\n",
       "    </tr>\n",
       "    <tr>\n",
       "      <th>198</th>\n",
       "      <td>199</td>\n",
       "      <td>떠나보낼 준비해 둘걸 그랬어</td>\n",
       "      <td>임한별</td>\n",
       "      <td>떠나보낼 준비해 둘걸 그랬어</td>\n",
       "    </tr>\n",
       "    <tr>\n",
       "      <th>199</th>\n",
       "      <td>200</td>\n",
       "      <td>사랑..그게 뭔데</td>\n",
       "      <td>지아 (Zia)</td>\n",
       "      <td>사랑..그게 뭔데</td>\n",
       "    </tr>\n",
       "  </tbody>\n",
       "</table>\n",
       "</div>"
      ],
      "text/plain": [
       "     rank                             title        artist  \\\n",
       "195   196  찰나가 영원이 될 때 (The Eternal Moment)  마크툽 (Maktub)   \n",
       "196   197                      첫눈처럼 너에게 가겠다   에일리 (Ailee)   \n",
       "197   198                              ASAP      NewJeans   \n",
       "198   199                   떠나보낼 준비해 둘걸 그랬어           임한별   \n",
       "199   200                         사랑..그게 뭔데      지아 (Zia)   \n",
       "\n",
       "                           album  \n",
       "195  Red Moon : Beyond The Light  \n",
       "196   도깨비 OST Part 9 (tvN 금토드라마)  \n",
       "197     NewJeans 2nd EP 'Get Up'  \n",
       "198              떠나보낼 준비해 둘걸 그랬어  \n",
       "199                    사랑..그게 뭔데  "
      ]
     },
     "execution_count": 103,
     "metadata": {},
     "output_type": "execute_result"
    }
   ],
   "source": [
    "df = pd.DataFrame(data)\n",
    "df.tail()"
   ]
  },
  {
   "cell_type": "code",
   "execution_count": 104,
   "metadata": {},
   "outputs": [
    {
     "data": {
      "text/plain": [
       "'202309190900.csv'"
      ]
     },
     "execution_count": 104,
     "metadata": {},
     "output_type": "execute_result"
    }
   ],
   "source": [
    "date = date.string.replace('.','')\n",
    "time = time.string.replace(':','')\n",
    "filename = date + time + '.csv'\n",
    "filename"
   ]
  },
  {
   "cell_type": "code",
   "execution_count": 105,
   "metadata": {},
   "outputs": [
    {
     "data": {
      "text/html": [
       "<div>\n",
       "<style scoped>\n",
       "    .dataframe tbody tr th:only-of-type {\n",
       "        vertical-align: middle;\n",
       "    }\n",
       "\n",
       "    .dataframe tbody tr th {\n",
       "        vertical-align: top;\n",
       "    }\n",
       "\n",
       "    .dataframe thead th {\n",
       "        text-align: right;\n",
       "    }\n",
       "</style>\n",
       "<table border=\"1\" class=\"dataframe\">\n",
       "  <thead>\n",
       "    <tr style=\"text-align: right;\">\n",
       "      <th></th>\n",
       "      <th>rank</th>\n",
       "      <th>title</th>\n",
       "      <th>artist</th>\n",
       "      <th>album</th>\n",
       "    </tr>\n",
       "  </thead>\n",
       "  <tbody>\n",
       "    <tr>\n",
       "      <th>195</th>\n",
       "      <td>196</td>\n",
       "      <td>찰나가 영원이 될 때 (The Eternal Moment)</td>\n",
       "      <td>마크툽 (Maktub)</td>\n",
       "      <td>Red Moon : Beyond The Light</td>\n",
       "    </tr>\n",
       "    <tr>\n",
       "      <th>196</th>\n",
       "      <td>197</td>\n",
       "      <td>첫눈처럼 너에게 가겠다</td>\n",
       "      <td>에일리 (Ailee)</td>\n",
       "      <td>도깨비 OST Part 9 (tvN 금토드라마)</td>\n",
       "    </tr>\n",
       "    <tr>\n",
       "      <th>197</th>\n",
       "      <td>198</td>\n",
       "      <td>ASAP</td>\n",
       "      <td>NewJeans</td>\n",
       "      <td>NewJeans 2nd EP 'Get Up'</td>\n",
       "    </tr>\n",
       "    <tr>\n",
       "      <th>198</th>\n",
       "      <td>199</td>\n",
       "      <td>떠나보낼 준비해 둘걸 그랬어</td>\n",
       "      <td>임한별</td>\n",
       "      <td>떠나보낼 준비해 둘걸 그랬어</td>\n",
       "    </tr>\n",
       "    <tr>\n",
       "      <th>199</th>\n",
       "      <td>200</td>\n",
       "      <td>사랑..그게 뭔데</td>\n",
       "      <td>지아 (Zia)</td>\n",
       "      <td>사랑..그게 뭔데</td>\n",
       "    </tr>\n",
       "  </tbody>\n",
       "</table>\n",
       "</div>"
      ],
      "text/plain": [
       "     rank                             title        artist  \\\n",
       "195   196  찰나가 영원이 될 때 (The Eternal Moment)  마크툽 (Maktub)   \n",
       "196   197                      첫눈처럼 너에게 가겠다   에일리 (Ailee)   \n",
       "197   198                              ASAP      NewJeans   \n",
       "198   199                   떠나보낼 준비해 둘걸 그랬어           임한별   \n",
       "199   200                         사랑..그게 뭔데      지아 (Zia)   \n",
       "\n",
       "                           album  \n",
       "195  Red Moon : Beyond The Light  \n",
       "196   도깨비 OST Part 9 (tvN 금토드라마)  \n",
       "197     NewJeans 2nd EP 'Get Up'  \n",
       "198              떠나보낼 준비해 둘걸 그랬어  \n",
       "199                    사랑..그게 뭔데  "
      ]
     },
     "execution_count": 105,
     "metadata": {},
     "output_type": "execute_result"
    }
   ],
   "source": [
    "df.to_csv('data/지니차트_'+filename, index=False)\n",
    "pd.read_csv('data/지니차트_'+filename).tail()"
   ]
  },
  {
   "cell_type": "code",
   "execution_count": 106,
   "metadata": {},
   "outputs": [],
   "source": [
    "driver.close()"
   ]
  },
  {
   "cell_type": "code",
   "execution_count": null,
   "metadata": {},
   "outputs": [],
   "source": []
  }
 ],
 "metadata": {
  "kernelspec": {
   "display_name": "base",
   "language": "python",
   "name": "python3"
  },
  "language_info": {
   "codemirror_mode": {
    "name": "ipython",
    "version": 3
   },
   "file_extension": ".py",
   "mimetype": "text/x-python",
   "name": "python",
   "nbconvert_exporter": "python",
   "pygments_lexer": "ipython3",
   "version": "3.11.4"
  },
  "orig_nbformat": 4
 },
 "nbformat": 4,
 "nbformat_minor": 2
}
