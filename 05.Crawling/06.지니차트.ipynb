{
 "cells": [
  {
   "cell_type": "code",
   "execution_count": 145,
   "metadata": {},
   "outputs": [],
   "source": [
    "import requests\n",
    "import pandas as pd\n",
    "from tqdm import tqdm\n",
    "from bs4 import BeautifulSoup"
   ]
  },
  {
   "cell_type": "code",
   "execution_count": 146,
   "metadata": {},
   "outputs": [],
   "source": [
    "base_url = 'https://www.genie.co.kr/chart/top200'\n",
    "main_url = '?ditc=D&ymd=20230918&hh=16&rtm=Y&'\n",
    "url = f'{base_url}{main_url}?pg=1'\n",
    "res = requests.get(url)\n",
    "soup = BeautifulSoup(res.text, 'html.parser')"
   ]
  },
  {
   "cell_type": "code",
   "execution_count": 147,
   "metadata": {},
   "outputs": [
    {
     "data": {
      "text/plain": [
       "'\\r\\n\\r\\n\\r\\n\\r\\n\\r\\n\\r\\n<!DOCTYPE html>\\r\\n<html lang=\"ko\">\\r\\n<head>\\r\\n\\t\\n\\n\\n\\n\\n<meta http-equiv=\"X-UA-Compatible\" content=\"IE=edge\" />\\n<!--[if lte IE 6]><html dir=\"ltr\" class=\"no-js ie6\"><![endif]-->\\n<!--[if lte IE 7]><html dir=\"ltr\" class=\"no-js ie7\"><![endif]-->\\n<!--[if IE 8]><html dir=\"ltr\" class=\"no-js ie8\"><![endif]-->\\n<!--[if IE 9]><html dir=\"ltr\" class=\"no-js ie9\"><![endif]-->\\n<!--[if (gte IE 10)|!(IE)]><!--><html dir=\"ltr\" class=\"no-js\"><!--<![endif]-->\\n<title>음악, 그리고 설레임 - 지니</title>\\n<meta charset=\"utf-8'"
      ]
     },
     "execution_count": 147,
     "metadata": {},
     "output_type": "execute_result"
    }
   ],
   "source": [
    "header = {'User-Agent': 'Mozilla/5.0 (Windows NT 10.0; Win64; x64) AppleWebKit/537.36 (KHTML, like Gecko) Chrome/117.0.0.0 Safari/537.36'}\n",
    "res = requests.get(url, headers = header)\n",
    "res.text[:500]"
   ]
  },
  {
   "cell_type": "code",
   "execution_count": 148,
   "metadata": {},
   "outputs": [],
   "source": [
    "soup = BeautifulSoup(res.text, 'html.parser')"
   ]
  },
  {
   "cell_type": "code",
   "execution_count": 169,
   "metadata": {},
   "outputs": [],
   "source": [
    "from selenium import webdriver\n",
    "\n",
    "driver = webdriver.Chrome()     # PATH 설정 할 것 (chromedriver.exe가 위치해있는곳을 path 설정해야함)\n",
    "driver.get(url)"
   ]
  },
  {
   "cell_type": "code",
   "execution_count": 176,
   "metadata": {},
   "outputs": [
    {
     "data": {
      "text/plain": [
       "('20230918', '17')"
      ]
     },
     "execution_count": 176,
     "metadata": {},
     "output_type": "execute_result"
    }
   ],
   "source": [
    "# 크롬을 사용하여 불러오면 현재 지니에 적용된 시간을 불러올 수 있음\n",
    "soup = BeautifulSoup(driver.page_source, 'html.parser')\n",
    "date = soup.select_one('#inc_date').get_text().strip().replace('.', '')\n",
    "time = soup.select_one('#inc_time').get_text().strip()[:2]\n",
    "date, time"
   ]
  },
  {
   "cell_type": "code",
   "execution_count": 167,
   "metadata": {},
   "outputs": [
    {
     "data": {
      "text/plain": [
       "'201303061200'"
      ]
     },
     "execution_count": 167,
     "metadata": {},
     "output_type": "execute_result"
    }
   ],
   "source": [
    "# Beautifulsoup 에서는 예전 시간만 불러옴\n",
    "date_str = soup.select_one('#inc_date').get_text().strip() + \\\n",
    "            soup.select_one('#inc_time').get_text().strip()\n",
    "date_str = date_str.replace('.','').replace(':','')\n",
    "date_str"
   ]
  },
  {
   "cell_type": "code",
   "execution_count": 150,
   "metadata": {},
   "outputs": [],
   "source": [
    "from datetime import datetime, timedelta\n",
    "\n",
    "now = datetime.now()\n",
    "date = now.strftime('%Y%m%d')\n",
    "hour = now.strftime('%H')"
   ]
  },
  {
   "cell_type": "code",
   "execution_count": 151,
   "metadata": {},
   "outputs": [
    {
     "data": {
      "text/plain": [
       "50"
      ]
     },
     "execution_count": 151,
     "metadata": {},
     "output_type": "execute_result"
    }
   ],
   "source": [
    "trs = soup.select('tr.list')\n",
    "len(trs)"
   ]
  },
  {
   "cell_type": "code",
   "execution_count": 152,
   "metadata": {},
   "outputs": [
    {
     "data": {
      "text/plain": [
       "'https://www.genie.co.kr/chart/top200?ditc=D&ymd=20230918&hh=16&rtm=Y&pg=4'"
      ]
     },
     "execution_count": 152,
     "metadata": {},
     "output_type": "execute_result"
    }
   ],
   "source": [
    "tr = trs[0]\n",
    "\n",
    "for page_num in range(1, 5):\n",
    "    sub_href = f'https://www.genie.co.kr/chart/top200?ditc=D&ymd={date}&hh={time}&rtm=Y&pg={page_num}'\n",
    "    sub_res = requests.get(url)\n",
    "    sub_soup = BeautifulSoup(sub_res.text, 'html.parser')\n",
    "\n",
    "sub_href"
   ]
  },
  {
   "cell_type": "code",
   "execution_count": 154,
   "metadata": {},
   "outputs": [
    {
     "data": {
      "text/plain": [
       "1"
      ]
     },
     "execution_count": 154,
     "metadata": {},
     "output_type": "execute_result"
    }
   ],
   "source": [
    "tr = trs[0]\n",
    "rank = int(tr.select_one('.number').get_text().replace(' ', '').split('\\n')[0])\n",
    "rank"
   ]
  },
  {
   "cell_type": "code",
   "execution_count": 155,
   "metadata": {},
   "outputs": [
    {
     "data": {
      "text/plain": [
       "'Love Lee'"
      ]
     },
     "execution_count": 155,
     "metadata": {},
     "output_type": "execute_result"
    }
   ],
   "source": [
    "title = tr.select_one('.title.ellipsis').get_text().strip()\n",
    "title"
   ]
  },
  {
   "cell_type": "code",
   "execution_count": 156,
   "metadata": {},
   "outputs": [
    {
     "data": {
      "text/plain": [
       "'AKMU (악뮤)'"
      ]
     },
     "execution_count": 156,
     "metadata": {},
     "output_type": "execute_result"
    }
   ],
   "source": [
    "artist = tr.select_one('.artist.ellipsis').get_text().strip()\n",
    "artist"
   ]
  },
  {
   "cell_type": "code",
   "execution_count": 157,
   "metadata": {},
   "outputs": [
    {
     "data": {
      "text/plain": [
       "'Love Lee'"
      ]
     },
     "execution_count": 157,
     "metadata": {},
     "output_type": "execute_result"
    }
   ],
   "source": [
    "album = tr.select_one('.albumtitle.ellipsis').get_text().strip()\n",
    "album"
   ]
  },
  {
   "cell_type": "code",
   "execution_count": 177,
   "metadata": {},
   "outputs": [],
   "source": [
    "data = []\n",
    "from datetime import datetime, timedelta\n",
    "\n",
    "for page_num in range(1, 5):\n",
    "    soup = BeautifulSoup(driver.page_source, 'html.parser')\n",
    "    date = soup.select_one('#inc_date').get_text().strip().replace('.', '')\n",
    "    time = soup.select_one('#inc_time').get_text().strip()[:2]\n",
    "    header = {'User-Agent': 'Mozilla/5.0 (Windows NT 10.0; Win64; x64) AppleWebKit/537.36 (KHTML, like Gecko) Chrome/117.0.0.0 Safari/537.36'}\n",
    "    url = f'https://www.genie.co.kr/chart/top200?ditc=D&ymd={date}&hh={time}&rtm=Y&pg={page_num}'\n",
    "    res = requests.get(url, headers = header)\n",
    "    soup = BeautifulSoup(res.text, 'html.parser')\n",
    "    trs = soup.select('tr.list')\n",
    "    for tr in trs:\n",
    "        rank = int(tr.select_one('.number').get_text().replace(' ', '').split('\\n')[0])\n",
    "        title = tr.select_one('.title.ellipsis').get_text().strip()\n",
    "        artist = tr.select_one('.artist.ellipsis').get_text().strip()\n",
    "        album = tr.select_one('.albumtitle.ellipsis').get_text().strip()\n",
    "\n",
    "        data.append({'순위': rank, '제목': title, '아티스트': artist, '앨범': album})"
   ]
  },
  {
   "cell_type": "code",
   "execution_count": 178,
   "metadata": {},
   "outputs": [
    {
     "data": {
      "text/html": [
       "<div>\n",
       "<style scoped>\n",
       "    .dataframe tbody tr th:only-of-type {\n",
       "        vertical-align: middle;\n",
       "    }\n",
       "\n",
       "    .dataframe tbody tr th {\n",
       "        vertical-align: top;\n",
       "    }\n",
       "\n",
       "    .dataframe thead th {\n",
       "        text-align: right;\n",
       "    }\n",
       "</style>\n",
       "<table border=\"1\" class=\"dataframe\">\n",
       "  <thead>\n",
       "    <tr style=\"text-align: right;\">\n",
       "      <th></th>\n",
       "      <th>순위</th>\n",
       "      <th>제목</th>\n",
       "      <th>아티스트</th>\n",
       "      <th>앨범</th>\n",
       "    </tr>\n",
       "  </thead>\n",
       "  <tbody>\n",
       "    <tr>\n",
       "      <th>0</th>\n",
       "      <td>1</td>\n",
       "      <td>Love Lee</td>\n",
       "      <td>AKMU (악뮤)</td>\n",
       "      <td>Love Lee</td>\n",
       "    </tr>\n",
       "    <tr>\n",
       "      <th>1</th>\n",
       "      <td>2</td>\n",
       "      <td>Smoke (Prod. by Dynamicduo &amp; Padi)</td>\n",
       "      <td>다이나믹 듀오 &amp; 이영지</td>\n",
       "      <td>스트릿 우먼 파이터2 (SWF2) 계급미션</td>\n",
       "    </tr>\n",
       "    <tr>\n",
       "      <th>2</th>\n",
       "      <td>3</td>\n",
       "      <td>후라이의 꿈</td>\n",
       "      <td>AKMU (악뮤)</td>\n",
       "      <td>Love Lee</td>\n",
       "    </tr>\n",
       "    <tr>\n",
       "      <th>3</th>\n",
       "      <td>4</td>\n",
       "      <td>ETA</td>\n",
       "      <td>NewJeans</td>\n",
       "      <td>NewJeans 2nd EP 'Get Up'</td>\n",
       "    </tr>\n",
       "    <tr>\n",
       "      <th>4</th>\n",
       "      <td>5</td>\n",
       "      <td>Seven (Feat. Latto) (Clean Ver.)</td>\n",
       "      <td>정국</td>\n",
       "      <td>Seven (Clean Ver.)</td>\n",
       "    </tr>\n",
       "    <tr>\n",
       "      <th>...</th>\n",
       "      <td>...</td>\n",
       "      <td>...</td>\n",
       "      <td>...</td>\n",
       "      <td>...</td>\n",
       "    </tr>\n",
       "    <tr>\n",
       "      <th>195</th>\n",
       "      <td>196</td>\n",
       "      <td>10,000 Hours</td>\n",
       "      <td>Dan ＋ Shay &amp; Justin Bieber</td>\n",
       "      <td>Good Things</td>\n",
       "    </tr>\n",
       "    <tr>\n",
       "      <th>196</th>\n",
       "      <td>197</td>\n",
       "      <td>Lonely</td>\n",
       "      <td>2NE1</td>\n",
       "      <td>Lonely</td>\n",
       "    </tr>\n",
       "    <tr>\n",
       "      <th>197</th>\n",
       "      <td>198</td>\n",
       "      <td>나의 바람 (Wind And Wish)</td>\n",
       "      <td>비투비</td>\n",
       "      <td>WIND AND WISH</td>\n",
       "    </tr>\n",
       "    <tr>\n",
       "      <th>198</th>\n",
       "      <td>199</td>\n",
       "      <td>Love Love Love (Feat. Yoong Jin of Casker))</td>\n",
       "      <td>에픽하이 (EPIK HIGH)</td>\n",
       "      <td>Remapping The Human Soul</td>\n",
       "    </tr>\n",
       "    <tr>\n",
       "      <th>199</th>\n",
       "      <td>200</td>\n",
       "      <td>라일락</td>\n",
       "      <td>아이유 (IU)</td>\n",
       "      <td>IU 5th Album 'LILAC'</td>\n",
       "    </tr>\n",
       "  </tbody>\n",
       "</table>\n",
       "<p>200 rows × 4 columns</p>\n",
       "</div>"
      ],
      "text/plain": [
       "      순위                                           제목  \\\n",
       "0      1                                     Love Lee   \n",
       "1      2           Smoke (Prod. by Dynamicduo & Padi)   \n",
       "2      3                                       후라이의 꿈   \n",
       "3      4                                          ETA   \n",
       "4      5             Seven (Feat. Latto) (Clean Ver.)   \n",
       "..   ...                                          ...   \n",
       "195  196                                 10,000 Hours   \n",
       "196  197                                       Lonely   \n",
       "197  198                        나의 바람 (Wind And Wish)   \n",
       "198  199  Love Love Love (Feat. Yoong Jin of Casker))   \n",
       "199  200                                          라일락   \n",
       "\n",
       "                           아티스트                        앨범  \n",
       "0                     AKMU (악뮤)                  Love Lee  \n",
       "1                 다이나믹 듀오 & 이영지   스트릿 우먼 파이터2 (SWF2) 계급미션  \n",
       "2                     AKMU (악뮤)                  Love Lee  \n",
       "3                      NewJeans  NewJeans 2nd EP 'Get Up'  \n",
       "4                            정국        Seven (Clean Ver.)  \n",
       "..                          ...                       ...  \n",
       "195  Dan ＋ Shay & Justin Bieber               Good Things  \n",
       "196                        2NE1                    Lonely  \n",
       "197                         비투비             WIND AND WISH  \n",
       "198            에픽하이 (EPIK HIGH)  Remapping The Human Soul  \n",
       "199                    아이유 (IU)      IU 5th Album 'LILAC'  \n",
       "\n",
       "[200 rows x 4 columns]"
      ]
     },
     "execution_count": 178,
     "metadata": {},
     "output_type": "execute_result"
    }
   ],
   "source": [
    "df = pd.DataFrame(data)\n",
    "df"
   ]
  },
  {
   "cell_type": "code",
   "execution_count": null,
   "metadata": {},
   "outputs": [],
   "source": []
  }
 ],
 "metadata": {
  "kernelspec": {
   "display_name": "base",
   "language": "python",
   "name": "python3"
  },
  "language_info": {
   "codemirror_mode": {
    "name": "ipython",
    "version": 3
   },
   "file_extension": ".py",
   "mimetype": "text/x-python",
   "name": "python",
   "nbconvert_exporter": "python",
   "pygments_lexer": "ipython3",
   "version": "3.11.4"
  },
  "orig_nbformat": 4
 },
 "nbformat": 4,
 "nbformat_minor": 2
}
