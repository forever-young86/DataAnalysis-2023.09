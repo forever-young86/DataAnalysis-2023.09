{
 "cells": [
  {
   "cell_type": "code",
   "execution_count": 78,
   "metadata": {},
   "outputs": [],
   "source": [
    "import time\n",
    "import requests\n",
    "from selenium import webdriver\n",
    "from selenium.webdriver.common.by import By\n",
    "from bs4 import BeautifulSoup\n",
    "from urllib.parse import quote\n",
    "from tqdm import tqdm"
   ]
  },
  {
   "cell_type": "code",
   "execution_count": 92,
   "metadata": {},
   "outputs": [],
   "source": [
    "url = f'https://sports.news.naver.com/kbaseball/news/index?isphoto=N&page=1'\n",
    "driver = webdriver.Chrome()\n",
    "driver.get(url)\n",
    "soup = BeautifulSoup(driver.page_source, 'html.parser')"
   ]
  },
  {
   "cell_type": "code",
   "execution_count": 93,
   "metadata": {},
   "outputs": [
    {
     "data": {
      "text/plain": [
       "20"
      ]
     },
     "execution_count": 93,
     "metadata": {},
     "output_type": "execute_result"
    }
   ],
   "source": [
    "lis = soup.select('.news_list> ul > li')\n",
    "len(lis)"
   ]
  },
  {
   "cell_type": "code",
   "execution_count": 94,
   "metadata": {},
   "outputs": [],
   "source": [
    "res = requests.get(url)\n",
    "sub_soup = BeautifulSoup(res.text, 'html.parser')"
   ]
  },
  {
   "cell_type": "code",
   "execution_count": 110,
   "metadata": {},
   "outputs": [
    {
     "data": {
      "text/plain": [
       "\"'전반기 11승1패→후반기 0승2패' 1군에서 사라진 LG 에이스…마지노선에 재계약이 걸렸다\""
      ]
     },
     "execution_count": 110,
     "metadata": {},
     "output_type": "execute_result"
    }
   ],
   "source": [
    "titles = li.select_one('.title > span').get_text().strip()\n",
    "len(titles)\n",
    "titles"
   ]
  },
  {
   "cell_type": "code",
   "execution_count": 126,
   "metadata": {},
   "outputs": [
    {
     "name": "stdout",
     "output_type": "stream",
     "text": [
      "전반기 하드 캐리한 플럿코와 함덕주, 이탈은 같지만 상황은 다르다[SS포커스]\n",
      "[오피셜] NC 구창모 결국 항저우행 불발, 류중일의 선택은 김영규-김성윤 대체 발탁\n",
      "이정후-구창모 대신 김성윤-김영규, 아시안게임 야구 대표팀 24인 엔트리 교체\n",
      "LG트윈스, 문상훈, 차인표 승리 기원 시구 진행\n",
      "\"상태 좋다\"던 구창모 결국 대표팀 교체...이정후↔김성윤, 구창모↔김영규 교체 결정 [공식]\n",
      "'복귀전 145km' 구창모, AG 출전 불발→NC 김영규 발탁...'이정후 대체' 삼성 김성윤 엔트리 합류\n",
      "야구 대표팀 이정후·구창모 부상 낙마…김성윤·김영규 대체 선발[항저우AG]\n",
      "[아시안게임] 4연패 도전 야구대표팀, 이정후·구창모 대신 김성윤·김영규\n",
      "이정후→김성윤, 구창모→김영규…AG 야구대표팀 부상 선수 교체 확정 [공식발표]\n",
      "지난해 막강 화력으로 ‘5강 막차’ 탄 KIA…나성범 이탈에 “시급한 건 박찬호 복귀”\n",
      "KIA 승률 0.459->0.561, 기적 이끈 나성범 이탈->가을야구 최대 변수되나\n",
      "'맞아도 156km 직구' 데뷔 첫 2이닝 세이브 고우석, 9회말 김도영과 맞대결 장면은 압권이었다\n",
      "항저우 AG 야구대표팀, 엔트리 교체…김성윤·김영규 합류\n",
      "김성윤-김영규, 이정후-구창모 대신 항저우AG 나간다\n",
      "항저우AG 대표팀, ‘구창모·이정후→김영규·김성윤’ 엔트리 전격 교체 [공식발표]\n",
      "'145㎞로 돌아왔지만' 구창모, 결국 AG 엔트리 제외→김영규 발탁…이정후 대체 김성윤 승선 [공식발표]\n",
      "구창모 부상 복귀했지만 AG 엔트리 제외…삼성 김성윤, NC 김영규 대체 발탁\n",
      "'최고 145km' 구창모, 결국 대표팀 불발…김영규-김성윤 추가 발탁, AG 엔트리 변경 [공식발표]\n",
      "구창모 '항저우행' 불발, NC 김영규 대체 발탁... 이정후→삼성 김성윤 교체 확정 [공식발표]\n",
      "'후반기 타율 .356’ 김성윤-'21홀드' 김영규, AG 최종 발탁...'6월 이후 1군 등판 無' 구창모 낙마 [오피셜]\n",
      "\n"
     ]
    }
   ],
   "source": [
    "head = ''\n",
    "for li in lis:\n",
    "    titles = li.select_one('.title > span').get_text().strip()\n",
    "    if titles == '':\n",
    "        continue\n",
    "    head += titles + '\\n'\n",
    "print(head)\n"
   ]
  },
  {
   "cell_type": "code",
   "execution_count": 131,
   "metadata": {},
   "outputs": [],
   "source": [
    "title_list = []\n",
    "driver = webdriver.Chrome()\n",
    "for page in range (1, 5):\n",
    "    url = f'https://sports.news.naver.com/kbaseball/news/index?isphoto=N&page={page}'\n",
    "    driver.get(url)\n",
    "    time.sleep(2)\n",
    "    soup = BeautifulSoup(driver.page_source, 'html.parser')\n",
    "    lis = soup.select('.news_list> ul > li')\n",
    "        \n",
    "    head = ''\n",
    "    for li in lis:\n",
    "        titles = li.select_one('.title > span').get_text().strip()\n",
    "        if titles == '':\n",
    "            continue\n",
    "        head += titles + '\\n'\n",
    "        title_list.append(titles)\n",
    "\n",
    "    driver.back()\n",
    "    time.sleep(2)\n",
    "\n",
    "driver.close()"
   ]
  },
  {
   "cell_type": "code",
   "execution_count": 133,
   "metadata": {},
   "outputs": [],
   "source": [
    "with open('data/야구.txt', 'w', encoding='utf-8') as file:\n",
    "    for title in title_list:\n",
    "        file.write(title + '\\n')"
   ]
  },
  {
   "cell_type": "code",
   "execution_count": 132,
   "metadata": {},
   "outputs": [
    {
     "data": {
      "text/plain": [
       "[\"[항저우AG] '구창모 결국 AG 못 간다' 야구 대표팀, 부상 선수 교체\",\n",
       " '이정후·구창모, 결국 AG 대표팀서 낙마…김성윤·김영규 합류',\n",
       " '이정후·구창모, 항저우AG 야구 대표팀 낙마… 김성윤·김영규 발탁',\n",
       " \"LG '1위 굳히기' 돌입, SSG에도 '5강 절실' 귀중한 승리 누가 가져갈까?\",\n",
       " '야구대표팀, 투수 구창모 교체 선택…김영규 대체 발탁',\n",
       " '롯데자이언츠, 추석 연휴 맞아 ‘티켓페스타’ 개최',\n",
       " '[항저우AG] 야구대표팀 부상 이정후·구창모 교체 확정',\n",
       " \"스스로 만족한 145㎞, 그런데 '건창모'가 AG 빠지다니…'PO 직행' 최고 지원군 얻었다\",\n",
       " '구창모, 끝내 항저우행 불발…NC 김영규·삼성 김성윤 발탁',\n",
       " \"최형우·마해영의 스승 '일발장타' 정현발 별세\",\n",
       " '[부음]조승범씨(KIA 타이거즈 전력분석 코치) 조모상',\n",
       " '145㎞로 AG 갈 수 없었다, \\'광현종\\' 후계자 태극마크 불발…\"정상적인 경기력 보이기 어렵다\"',\n",
       " '전반기 하드 캐리한 플럿코와 함덕주, 이탈은 같지만 상황은 다르다[SS포커스]',\n",
       " '[오피셜] NC 구창모 결국 항저우행 불발, 류중일의 선택은 김영규-김성윤 대체 발탁',\n",
       " '이정후-구창모 대신 김성윤-김영규, 아시안게임 야구 대표팀 24인 엔트리 교체',\n",
       " 'LG트윈스,\\xa0문상훈,\\xa0차인표 승리 기원 시구 진행',\n",
       " '\"상태 좋다\"던 구창모 결국 대표팀 교체...이정후↔김성윤, 구창모↔김영규 교체 결정 [공식]',\n",
       " \"'복귀전 145km' 구창모, AG 출전 불발→NC 김영규 발탁...'이정후 대체' 삼성 김성윤 엔트리 합류\",\n",
       " '야구 대표팀 이정후·구창모 부상 낙마…김성윤·김영규 대체 선발[항저우AG]',\n",
       " '[아시안게임] 4연패 도전 야구대표팀, 이정후·구창모 대신 김성윤·김영규',\n",
       " '김성윤+김영규, 이정후·구창모 대신 항저우 간다…AG 야구대표팀 선수 교체 확정 [공식발표]',\n",
       " '지난해 막강 화력으로 ‘5강 막차’ 탄 KIA…나성범 이탈에 “시급한 건 박찬호 복귀”',\n",
       " 'KIA 승률 0.459->0.561, 기적 이끈 나성범 이탈->가을야구 최대 변수되나',\n",
       " \"'맞아도 156km 직구' 데뷔 첫 2이닝 세이브 고우석, 9회말 김도영과 맞대결 장면은 압권이었다\",\n",
       " '항저우 AG 야구대표팀, 엔트리 교체…김성윤·김영규 합류',\n",
       " '김성윤-김영규, 이정후-구창모 대신 항저우AG 나간다',\n",
       " '항저우AG 대표팀, ‘구창모·이정후→김영규·김성윤’ 엔트리 전격 교체 [공식발표]',\n",
       " \"'145㎞로 돌아왔지만' 구창모, 결국 AG 엔트리 제외→김영규 발탁…이정후 대체 김성윤 승선 [공식발표]\",\n",
       " '구창모 부상 복귀했지만 AG 엔트리 제외…삼성 김성윤, NC 김영규 대체 발탁',\n",
       " \"'최고 145km' 구창모, 결국 대표팀 불발…김영규-김성윤 추가 발탁, AG 엔트리 변경 [공식발표]\",\n",
       " \"구창모 '항저우행' 불발, NC 김영규 대체 발탁... 이정후→삼성 김성윤 교체 확정 [공식발표]\",\n",
       " \"'후반기 타율 .356’ 김성윤-'21홀드' 김영규, AG 최종 발탁...'6월 이후 1군 등판 無' 구창모 낙마 [오피셜]\",\n",
       " \"롯데, 추석 연휴 맞아 '티켓페스타' 진행\",\n",
       " \"4년 전 롯데가 지나친 '경남고 5툴 유망주' 이주형, 고춧가루 부대 키움 선봉장 되어 돌아왔다\",\n",
       " \"ERA 1.62 필승조 정규 시즌 아웃…'불펜 대전' FA 시장 판도 운명은 어떻게 되나[SC핫포커스]\",\n",
       " '[부고] 정현발 前 삼성 원년 멤버 별세',\n",
       " '최형우의 외야 전향 이끈 라이온즈 창단 멤버 정현발 전 코치 별세',\n",
       " \"'문상훈 파워' 죽여주네, LG & 빠더너스 '협업 자켓' 판매 10분 만에 '품절'\",\n",
       " '10월 15일 PS 돌입, 한겨울 KS 피하기 위한 그들만의 리그 열린다[SS포커스]',\n",
       " '리드오프 잃고 해결사까지 떠났다… 시련에 부딪힌 KIA',\n",
       " \"'백정현 시즌 끝, 원태인 항저우 행' 사령탑 시선이 머무는 영건 3총사는 누구?\",\n",
       " '\"5경기나 남았다고?\" 롯데 반등의 기회될까…한화 7위 약진 찬스일까, 남은 5게임 순위경쟁 변수로',\n",
       " 'LG 태극마크 삼총사, 최고의 컨디션으로 AG 승선 전망…\"문보경·고우석·정우영, 가장 좋다\"',\n",
       " '두산이냐 KIA냐…페디의 20승 도전 상대, 선택에 달렸다',\n",
       " \"LG, 22일 NC전 '빠더너스' 문상훈, 24일 한화전 배우 차인표 승리 기원 시구 진행\",\n",
       " '김윤식·이지강 잘해주지만…‘LG 통합 우승’ 핵심은 결국 플럿코',\n",
       " '개그맨 문상훈·배우 차인표, LG트윈스 승리 기원 시구 나선다',\n",
       " '\"팀을 위해 오른팔을 바치겠다\" 당찬 신인 …하지만 KBO 총재 자리를 노렸다 [곽경훈의 현장]',\n",
       " '\"숫자 보지 말아라\" 108경기 타율 .301…복덩이 2루수 위한 염갈량의 조언',\n",
       " '0.3384 vs 0.3383… 타격왕 ‘1만분의 1 승부’',\n",
       " '100타석에 홈런 1개가 전부…국내 최고의 거포에 무슨 일이',\n",
       " \"아담한 키와 앳된 얼굴 '작은 고추가 매워요'...형들의 사랑 듬뿍 받는 최단신 타자 [유진형의 현장 1mm]\",\n",
       " '문상훈·차인표, LG 승리 기원 시구 나선다',\n",
       " \"삼성라이온즈, 두산과 마지막 2연전···'유종의 미' 거둘까?\",\n",
       " \"'3달째 무승' 나균안, 류중일호 합류 전 마지막 등판서 반등하나 [항저우AG]\",\n",
       " \"현실로 다가온 겨울야구, 이대로면 APBC 준비 파행 불가피…'도쿄 참사' 반복되나\",\n",
       " \"롯데, 추석 연휴 맞아 대규모 할인 이벤트 '티켓페스타' 개최\",\n",
       " '[부고] 조승범(KIA타이거즈 전력분석 코치)씨 조모상',\n",
       " '[부고] 조승범(KIA 타이거즈 전력분석 코치)씨 조모상',\n",
       " \"'고우석 대체 마무리가 시즌 아웃이라니.' 이제 정규리그 우승 마무리는 누가 하나. 투수 변신 오지환 후계자-대졸 파이어볼러-1m74고졸신인-최다등판 베테랑[SC초점]\",\n",
       " '실낱같은 롯데 PS 희망, 그러나 부상 속출→AG 차출까지 \"선발은 외국인 2명밖에…\"',\n",
       " '변화구 제구 잡은 3년차 1라운더 잠재력 폭발, 전체 1순위와 경쟁 본격화... 한화 왼손 선발 풍성해졌다',\n",
       " '롯데, 추석 연휴 맞아 대규모 할인 이벤트 ‘티켓페스타’ 개최',\n",
       " '[부고]조승범(KIA 타이거즈 전력분석 코치)씨 조모상',\n",
       " '‘롱런 모드’ 손아섭, 양준혁의 2003년에서 배웠다',\n",
       " '[부고] 조승범(KIA 타이거즈 전력분석코치) 씨 조모상',\n",
       " '롯데,\\xa0추석 연휴 맞아\\xa0‘티켓페스타’\\xa0개최',\n",
       " '[내야외야] 롯데, 추석 연휴 맞아 ‘티켓페스타’ 개최',\n",
       " '롯데, 추석 연휴 맞아 대규모 할인 이벤트 연다',\n",
       " '연천 미라클 지윤, 독립리그 단일 시즌 10승-100K-100이닝 달성',\n",
       " '[인터뷰]‘뜨거운 감자’ 구창모는 항저우로 갈 수 있을까',\n",
       " \"'ERA 1.62+16홀드' 트레이드 이적생, 정규시즌 등판 불가…PS 땐 볼 수 있나\",\n",
       " \"'3연패' 삼성, '천적' 브랜든 상대로 연패 탈출할까\",\n",
       " '\\'155km 쾅! 9월 ERA 0\\' 반가운 17승 에이스의 완벽 부활…\"마지막 20경기에서 쏟아 부어주길\"',\n",
       " '[부고] 조승범씨(프로야구 KIA 타이거즈 전력분석 코치) 조모상',\n",
       " 'OPS 1.098 해결사 잃고 최원준 태극행...개막전으로 돌아간 KIA 외야진, 그들에게 기대한다',\n",
       " '[부고] KIA 타이거즈 전력분석 조승범 코치 조모상',\n",
       " \"[IS 포커스] 3연패 양현종, 애착 기록 연장 '무산 위기'\",\n",
       " \"'30홈런' 이후 14G 침묵, 노시환에게 이제 7G 남았는데…체력은 지치고, 마음은 급하다\",\n",
       " '전문 코너외야수가 안성맞춤, 마땅한 선수가 없다? 이정후 대체 외야수, 3대1 경쟁...결정 임박']"
      ]
     },
     "execution_count": 132,
     "metadata": {},
     "output_type": "execute_result"
    }
   ],
   "source": [
    "title_list"
   ]
  },
  {
   "cell_type": "code",
   "execution_count": 134,
   "metadata": {},
   "outputs": [],
   "source": [
    "sports = ['kbaseball','wbaseball', 'kfootball', 'wfootball', 'basketball', 'volleyball', 'golf', 'general']\n",
    "base_url = 'https://sports.news.naver.com/' \n",
    "suffix_url = '/news/index?isphoto=N&page='"
   ]
  },
  {
   "cell_type": "code",
   "execution_count": 135,
   "metadata": {},
   "outputs": [],
   "source": [
    "driver = webdriver.Chrome()\n",
    "url = f'{base_url}kbaseball{suffix_url}1'\n",
    "driver.get(url)"
   ]
  },
  {
   "cell_type": "code",
   "execution_count": 137,
   "metadata": {},
   "outputs": [
    {
     "data": {
      "text/plain": [
       "{'kbaseball': 7,\n",
       " 'wbaseball': 5,\n",
       " 'kfootball': 7,\n",
       " 'wfootball': 14,\n",
       " 'basketball': 6,\n",
       " 'volleyball': 5,\n",
       " 'golf': 3,\n",
       " 'general': 11}"
      ]
     },
     "execution_count": 137,
     "metadata": {},
     "output_type": "execute_result"
    }
   ],
   "source": [
    "sports_dict = {}\n",
    "for sport in sports:\n",
    "    url = f'{base_url}{sport}{suffix_url}1'\n",
    "    driver.get(url)\n",
    "    time.sleep(2)\n",
    "\n",
    "    next_clicked = 0\n",
    "    while True:\n",
    "        try:\n",
    "            driver.find_element(By.CSS_SELECTOR, '.paginate > .next').click()\n",
    "            next_clicked += 1\n",
    "            time.sleep(2)\n",
    "        except:     # 모든 종목의 마지막 페이지가 있는 화면\n",
    "            pages = driver.find_elements(By.CSS_SELECTOR, '.paginate > a')\n",
    "            if next_clicked == 0:\n",
    "                num_pages = len(pages) + 1\n",
    "            else:\n",
    "                num_pages = next_clicked * 10 + len(pages)\n",
    "            sports_dict[sport] = num_pages\n",
    "            break\n",
    "\n",
    "sports_dict"
   ]
  },
  {
   "cell_type": "code",
   "execution_count": 139,
   "metadata": {},
   "outputs": [],
   "source": [
    "title_list = []\n",
    "driver = webdriver.Chrome()\n",
    "for sport, num_pages in sports_dict.items():\n",
    "    for page in range(1, num_pages+1):\n",
    "        url = f'{base_url}{sport}{suffix_url}{page}'\n",
    "        driver.get(url)\n",
    "        time.sleep(2)\n",
    "        soup = BeautifulSoup(driver.page_source, 'html.parser')\n",
    "        lis = soup.select('.news_list > ul > li')\n",
    "\n",
    "        head = ''\n",
    "        for li in lis:\n",
    "            titles = li.select_one('.title > span').get_text().strip()\n",
    "            if titles == '':\n",
    "                continue\n",
    "            head += titles + '\\n'\n",
    "            title_list.append(titles)\n",
    "   \n",
    "    time.sleep(2)\n",
    "\n",
    "driver.close()"
   ]
  },
  {
   "cell_type": "code",
   "execution_count": 142,
   "metadata": {},
   "outputs": [],
   "source": [
    "with open('data/스포츠.txt', 'w', encoding='utf-8') as file:\n",
    "    for title in title_list:\n",
    "        file.write(title + '\\n')"
   ]
  },
  {
   "cell_type": "code",
   "execution_count": 141,
   "metadata": {},
   "outputs": [
    {
     "data": {
      "text/plain": [
       "1071"
      ]
     },
     "execution_count": 141,
     "metadata": {},
     "output_type": "execute_result"
    }
   ],
   "source": [
    "len(title_list)"
   ]
  },
  {
   "cell_type": "code",
   "execution_count": null,
   "metadata": {},
   "outputs": [],
   "source": []
  }
 ],
 "metadata": {
  "kernelspec": {
   "display_name": "base",
   "language": "python",
   "name": "python3"
  },
  "language_info": {
   "codemirror_mode": {
    "name": "ipython",
    "version": 3
   },
   "file_extension": ".py",
   "mimetype": "text/x-python",
   "name": "python",
   "nbconvert_exporter": "python",
   "pygments_lexer": "ipython3",
   "version": "3.11.4"
  },
  "orig_nbformat": 4
 },
 "nbformat": 4,
 "nbformat_minor": 2
}
